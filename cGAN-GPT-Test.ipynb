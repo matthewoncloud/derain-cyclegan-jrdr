{
 "cells": [
  {
   "cell_type": "code",
   "execution_count": null,
   "metadata": {},
   "outputs": [],
   "source": [
    "import torch\n",
    "import torch.nn as nn\n",
    "from PIL import Image\n",
    "import matplotlib.pyplot as plt\n",
    "import torchvision.transforms as transforms\n",
    "\n",
    "# Residual Block\n",
    "class ResidualBlock(nn.Module):\n",
    "    def __init__(self, channels):\n",
    "        super(ResidualBlock, self).__init__()\n",
    "        self.block = nn.Sequential(\n",
    "            nn.Conv2d(channels, channels, kernel_size=3, stride=1, padding=1),\n",
    "            nn.InstanceNorm2d(channels),\n",
    "            nn.ReLU(inplace=True),\n",
    "            nn.Conv2d(channels, channels, kernel_size=3, stride=1, padding=1),\n",
    "            nn.InstanceNorm2d(channels)\n",
    "        )\n",
    "\n",
    "    def forward(self, x):\n",
    "        return x + self.block(x)\n",
    "\n",
    "# Generator\n",
    "class Generator(nn.Module):\n",
    "    def __init__(self, in_channels=3, out_channels=3, num_residual_blocks=9):\n",
    "        super(Generator, self).__init__()\n",
    "        model = [\n",
    "            nn.Conv2d(in_channels, 64, kernel_size=7, stride=1, padding=3),\n",
    "            nn.InstanceNorm2d(64),\n",
    "            nn.ReLU(inplace=True),\n",
    "        ]\n",
    "        in_features = 64\n",
    "        for _ in range(2):\n",
    "            out_features = in_features * 2\n",
    "            model += [\n",
    "                nn.Conv2d(in_features, out_features, kernel_size=3, stride=2, padding=1),\n",
    "                nn.InstanceNorm2d(out_features),\n",
    "                nn.ReLU(inplace=True),\n",
    "            ]\n",
    "            in_features = out_features\n",
    "        for _ in range(num_residual_blocks):\n",
    "            model += [ResidualBlock(in_features)]\n",
    "        for _ in range(2):\n",
    "            out_features = in_features // 2\n",
    "            model += [\n",
    "                nn.ConvTranspose2d(in_features, out_features, kernel_size=3, stride=2, padding=1, output_padding=1),\n",
    "                nn.InstanceNorm2d(out_features),\n",
    "                nn.ReLU(inplace=True),\n",
    "            ]\n",
    "            in_features = out_features\n",
    "        model += [nn.Conv2d(64, out_channels, kernel_size=7, stride=1, padding=3), nn.Tanh()]\n",
    "        self.model = nn.Sequential(*model)\n",
    "\n",
    "    def forward(self, x):\n",
    "        return self.model(x)\n",
    "\n",
    "# Load the generator model\n",
    "generator_rain_to_clear = Generator()\n",
    "generator_rain_to_clear.load_state_dict(torch.load(\"/Users/matthew/Jupyter/Thesis/DeRain/Epoch-50-Batch-4/generator_rain_to_clear.pth\", map_location=torch.device('mps')), strict=False)\n",
    "generator_rain_to_clear.eval()\n",
    "\n",
    "\n",
    "# Preprocess the input image\n",
    "transform = transforms.Compose([\n",
    "    # transforms.Resize((256, 256)),\n",
    "    transforms.ToTensor(),\n",
    "    transforms.Normalize((0.5, 0.5, 0.5), (0.5, 0.5, 0.5)),\n",
    "])\n",
    "\n",
    "# Load and transform the rainy image\n",
    "# rainy_image = Image.open(\"/Users/matthew/Jupyter/Thesis/DeRain/JRDR/rain_data_test_Light/rain/X2/norain-38x2.png\")\n",
    "rainy_image = Image.open(\"/Users/matthew/Desktop/rainy_image.jpg\")\n",
    "rainy_image_tensor = transform(rainy_image).unsqueeze(0)  # Add batch dimension\n",
    "\n",
    "# Generate the derained image\n",
    "with torch.no_grad():\n",
    "    derained_image_tensor = generator_rain_to_clear(rainy_image_tensor)\n",
    "\n",
    "# Post-process and display the image\n",
    "denormalize = transforms.Normalize((-1, -1, -1), (2, 2, 2))  # Reverse normalization\n",
    "derained_image_tensor = denormalize(derained_image_tensor.squeeze(0))\n",
    "derained_image = transforms.ToPILImage()(derained_image_tensor)\n",
    "\n",
    "plt.figure(figsize=(8, 4))\n",
    "plt.subplot(1, 2, 1)\n",
    "plt.title(\"Rainy Image\")\n",
    "plt.imshow(rainy_image)\n",
    "plt.axis(\"off\")\n",
    "\n",
    "plt.subplot(1, 2, 2)\n",
    "plt.title(\"Derained Image\")\n",
    "plt.imshow(derained_image)\n",
    "plt.axis(\"off\")\n",
    "\n",
    "plt.show()\n"
   ]
  },
  {
   "cell_type": "code",
   "execution_count": 5,
   "metadata": {},
   "outputs": [],
   "source": [
    "derained_image.save(\"derained_image.jpg\", format=\"JPEG\")"
   ]
  },
  {
   "cell_type": "code",
   "execution_count": 1,
   "metadata": {},
   "outputs": [
    {
     "name": "stderr",
     "output_type": "stream",
     "text": [
      "TqdmWarning: IProgress not found. Please update jupyter and ipywidgets. See https://ipywidgets.readthedocs.io/en/stable/user_install.html\n"
     ]
    },
    {
     "name": "stdout",
     "output_type": "stream",
     "text": [
      "Downloading vehicles.mp4 assets \n",
      "\n"
     ]
    },
    {
     "name": "stderr",
     "output_type": "stream",
     "text": [
      "100%|\u001b[38;2;163;81;251m██████████\u001b[0m| 33.7M/33.7M [00:02<00:00, 13.9MB/s]\n"
     ]
    },
    {
     "data": {
      "text/plain": [
       "'vehicles.mp4'"
      ]
     },
     "execution_count": 1,
     "metadata": {},
     "output_type": "execute_result"
    }
   ],
   "source": [
    "# ROBOFLOW VIDEO DOWNLOADER\n",
    "\n",
    "# import os\n",
    "# from supervision.assets import VideoAssets, download_assets\n",
    "# if not os.path.exists(\"data\"):\n",
    "#     os.makedirs(\"data\")\n",
    "# os.chdir(\"data\")\n",
    "# download_assets(VideoAssets.VEHICLES)"
   ]
  },
  {
   "cell_type": "code",
   "execution_count": 2,
   "metadata": {},
   "outputs": [
    {
     "ename": "ModuleNotFoundError",
     "evalue": "No module named 'export_dataset'",
     "output_type": "error",
     "traceback": [
      "\u001b[0;31m---------------------------------------------------------------------------\u001b[0m",
      "\u001b[0;31mModuleNotFoundError\u001b[0m                       Traceback (most recent call last)",
      "Cell \u001b[0;32mIn[2], line 1\u001b[0m\n\u001b[0;32m----> 1\u001b[0m \u001b[38;5;28;01mfrom\u001b[39;00m \u001b[38;5;21;01mexport_dataset\u001b[39;00m \u001b[38;5;28;01mimport\u001b[39;00m cache_frames\n\u001b[1;32m      3\u001b[0m video_dir \u001b[38;5;241m=\u001b[39m \u001b[38;5;124m\"\u001b[39m\u001b[38;5;124m/Users/matthew/Jupyter/Thesis/I24-3D/video\u001b[39m\u001b[38;5;124m\"\u001b[39m\n\u001b[1;32m      4\u001b[0m data_dir  \u001b[38;5;241m=\u001b[39m \u001b[38;5;124m\"\u001b[39m\u001b[38;5;124m/Users/matthew/Jupyter/Thesis/I24-3D/data\u001b[39m\u001b[38;5;124m\"\u001b[39m\n",
      "\u001b[0;31mModuleNotFoundError\u001b[0m: No module named 'export_dataset'"
     ]
    }
   ],
   "source": [
    "from export_dataset import cache_frames\n",
    "\n",
    "video_dir = \"/Users/matthew/Jupyter/Thesis/I24-3D/video\"\n",
    "data_dir  = \"/Users/matthew/Jupyter/Thesis/I24-3D/data\"\n",
    "out_dir   = \"/Users/matthew/Jupyter/Thesis/I24-3D/cache\"\n",
    "\n",
    "for scene_id in [1,2,3]:\n",
    "    ann = Scene(video_dir,data_dir,scene_id = scene_id)\n",
    "    cache_frames(ann,output_directory = out_dir)"
   ]
  }
 ],
 "metadata": {
  "kernelspec": {
   "display_name": "Python 3",
   "language": "python",
   "name": "python3"
  },
  "language_info": {
   "codemirror_mode": {
    "name": "ipython",
    "version": 3
   },
   "file_extension": ".py",
   "mimetype": "text/x-python",
   "name": "python",
   "nbconvert_exporter": "python",
   "pygments_lexer": "ipython3",
   "version": "3.12.3"
  }
 },
 "nbformat": 4,
 "nbformat_minor": 2
}
